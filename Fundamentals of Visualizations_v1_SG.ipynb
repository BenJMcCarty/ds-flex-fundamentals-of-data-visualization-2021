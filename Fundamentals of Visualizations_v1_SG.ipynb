{
 "cells": [
  {
   "cell_type": "markdown",
   "metadata": {
    "colab_type": "text",
    "id": "Zh_6nDmEe1DC"
   },
   "source": [
    "# Fundamentals of Visualizations"
   ]
  },
  {
   "cell_type": "markdown",
   "metadata": {},
   "source": [
    "- Flex-ODS\n",
    "- 08/05/21\n",
    "- Hosted by James Irving"
   ]
  },
  {
   "cell_type": "markdown",
   "metadata": {
    "colab_type": "text",
    "id": "hvv8bIQbck2x"
   },
   "source": [
    "## Learning Objectives"
   ]
  },
  {
   "cell_type": "markdown",
   "metadata": {
    "colab_type": "text",
    "id": "hvv8bIQbck2x"
   },
   "source": [
    "- Discuss an overview of the types of visualizations available.\n",
    "- Discuss which types of visuals are best for showing what type of information/comparisons.\n",
    "\n",
    "\n",
    "- Discuss the Anatomy of a Matplotlib Figure\n",
    "\n",
    "- Discuss the many ways to create/start a figure\n",
    "    - Matplotlib plt functions\n",
    "    - Matploltib OOP interface\n",
    "    - Pandas\n",
    "    - Seaborn\n",
    "- Overhauling the Aesthetics with Matplotlib styles and seaborn contexts.\n",
    "\n",
    "- Activity: Answering Questions via EDA"
   ]
  },
  {
   "cell_type": "markdown",
   "metadata": {},
   "source": [
    "## Prerequisites"
   ]
  },
  {
   "cell_type": "markdown",
   "metadata": {},
   "source": [
    "- To get the most out of this study group, you should have already learned how to work with Panda's DataFrames (Topic 04)"
   ]
  },
  {
   "cell_type": "markdown",
   "metadata": {},
   "source": [
    "# Types of Data Visualizations"
   ]
  },
  {
   "cell_type": "markdown",
   "metadata": {},
   "source": [
    "## Data Visualization Overview"
   ]
  },
  {
   "cell_type": "markdown",
   "metadata": {},
   "source": [
    "- We use visualizations to tell a story about our data. \n",
    "    - Knowing which visualization is best to tell the story you are trying to tell is an important skill. \n",
    "\n",
    "\n",
    "- Let's Explore Different Types of Visualizations and when they are most appropriate to use. \n",
    "\n",
    "    - [The Data Viz Project](https://datavizproject.com/)\n",
    "\n",
    "    - [Blog Post: How to Choose a Chart Type](https://towardsdatascience.com/data-visualization-101-how-to-choose-a-chart-type-9b8830e558d6)\n",
    "\n",
    "\n"
   ]
  },
  {
   "cell_type": "markdown",
   "metadata": {
    "colab_type": "text",
    "id": "iijmn9qbkE9t"
   },
   "source": [
    "### Example Galleries [Python Packages]\n",
    "Let's explore the Python-specific options available to us. \n",
    "\n",
    "\n",
    "- https://www.python-graph-gallery.com/\n",
    "- [Matplotlib Example Gallery](https://matplotlib.org/gallery/index.html#examples-index) \n",
    "- [Seaborn Example Gallery](https://seaborn.pydata.org/examples/index.html)\n",
    "- [Pandas Visualization docs](https://pandas.pydata.org/pandas-docs/stable/user_guide/visualization.html)\n",
    "- [Plotly Express](https://plotly.com/python/plotly-express/)"
   ]
  },
  {
   "cell_type": "markdown",
   "metadata": {},
   "source": [
    "# Using Visualizations to Answer Questions"
   ]
  },
  {
   "cell_type": "markdown",
   "metadata": {},
   "source": [
    "- We will be working with part of the AMES housing data set for today's study group.\n",
    "- We will be exploring the data set and using visualizations to answer several questions about homes in Ames, Iowa."
   ]
  },
  {
   "cell_type": "code",
   "execution_count": null,
   "metadata": {
    "ExecuteTime": {
     "end_time": "2021-08-05T17:45:49.595368Z",
     "start_time": "2021-08-05T17:45:48.693542Z"
    },
    "colab": {},
    "colab_type": "code",
    "id": "qzW2tY3Plflp"
   },
   "outputs": [],
   "source": [
    "import pandas as pd\n",
    "import numpy as np\n",
    "\n",
    "import matplotlib.pyplot as plt\n",
    "import matplotlib as mpl\n",
    "%matplotlib inline\n",
    "import seaborn as sns\n",
    "\n",
    "print('- Package Versions:')\n",
    "print(f'\\tMatplotlib = {mpl.__version__}')\n",
    "print(f'\\tPandas = {pd.__version__}')\n",
    "print(f'\\tSeaborn = {sns.__version__}')"
   ]
  },
  {
   "cell_type": "code",
   "execution_count": null,
   "metadata": {
    "ExecuteTime": {
     "end_time": "2021-08-05T17:45:50.099308Z",
     "start_time": "2021-08-05T17:45:49.597552Z"
    },
    "colab": {
     "base_uri": "https://localhost:8080/",
     "height": 224
    },
    "colab_type": "code",
    "id": "9nBCFyXCfMtZ",
    "outputId": "913ba228-f143-4356-bbea-077a7a710959"
   },
   "outputs": [],
   "source": [
    "## From https://github.com/learn-co-curriculum/dsc-regression-boston-lab\n",
    "cols_to_use = ['YrSold', 'MoSold', 'Fireplaces', 'TotRmsAbvGrd', 'GrLivArea',\n",
    "          'FullBath', 'YearRemodAdd', 'YearBuilt', 'OverallCond', \n",
    "          'OverallQual', 'LotArea', 'SalePrice','BldgType']\n",
    "\n",
    "df = pd.read_csv('https://raw.githubusercontent.com/learn-co-curriculum/dsc-regression-boston-lab/master/ames.csv',\n",
    "                usecols=cols_to_use\n",
    "                )\n",
    "display(df.head())\n",
    "df.info()"
   ]
  },
  {
   "cell_type": "markdown",
   "metadata": {},
   "source": [
    "## The Questions to Answer"
   ]
  },
  {
   "cell_type": "markdown",
   "metadata": {},
   "source": [
    "1. What is the distribution of house prices in Ames, Iowa?\n",
    "    - What is the median home price?\n",
    "    - What is the average home price?\n",
    "    \n",
    "\n",
    "2. What is the relationship between square footage of the living area (`GrLivArea`)  and sale price (`SalePrice`)?\n",
    "    \n",
    "2. What is the average sale price for each of the different types of homes (BldgType)?"
   ]
  },
  {
   "cell_type": "markdown",
   "metadata": {},
   "source": [
    "# The Many Ways of Making a Figure in Python"
   ]
  },
  {
   "cell_type": "markdown",
   "metadata": {
    "ExecuteTime": {
     "end_time": "2021-08-02T21:18:24.975028Z",
     "start_time": "2021-08-02T21:18:24.969082Z"
    }
   },
   "source": [
    "- There are MANY ways to make data visualizations with Python. \n",
    "- Today, we will focus on non-interactive visualizations.( Sorry, Plotly Express :*-( )\n",
    "\n",
    "- The ~4 Different Ways to Plot with Python:\n",
    "\n",
    "    1. Matplotlib plt functions:\n",
    "        - `plt.plot`/`.bar`,`.scatter`, etc.      \n",
    "    2. Matploltib OOP interface:\n",
    "       ```python \n",
    "       fig, ax =plt.subplots()\n",
    "       ax.plot#/ax.scatter, ax.bar, etc\n",
    "        ```\n",
    "        \n",
    "    3. Pandas:\n",
    "        ```python\n",
    "         ax = df.plot()\n",
    "         ax.set(#...\n",
    "        ```\n",
    "        \n",
    "    4. Seaborn:\n",
    "        ```python\n",
    "         sns.histplot\n",
    "         sns.regplot\n",
    "         sns.scatter\n",
    "        ```  \n",
    "\n",
    "- **All 4 of these approaches to making figures with Python ultimately use matplotlib behind the scenes.**"
   ]
  },
  {
   "cell_type": "markdown",
   "metadata": {},
   "source": [
    "> For this section of the notebook, we will focus on answering one question in each of the 4+ different ways. \n",
    "> #### Q1: What is the distribution of house prices in Ames, Iowa?"
   ]
  },
  {
   "cell_type": "markdown",
   "metadata": {
    "ExecuteTime": {
     "end_time": "2021-08-02T21:35:35.719097Z",
     "start_time": "2021-08-02T21:35:35.717378Z"
    }
   },
   "source": [
    "## Method 01: Using Matplotlib Plt Functions"
   ]
  },
  {
   "cell_type": "markdown",
   "metadata": {},
   "source": [
    "- Select the correct plt function and plot the data.\n",
    "- Make sure that:\n",
    "    - We have an xlabel,ylabel, and title.\n",
    "    - the figure is large enough\n",
    "- Add a vertical line for the mean, including a label with the mean. \n",
    "    - Make sure its: \n",
    "        - Different color than the bars\n",
    "        - a dotted line\n",
    "- Add a legend "
   ]
  },
  {
   "cell_type": "markdown",
   "metadata": {},
   "source": [
    "#### Plot 1: Sale Price Distribution"
   ]
  },
  {
   "cell_type": "code",
   "execution_count": null,
   "metadata": {
    "ExecuteTime": {
     "end_time": "2021-08-05T17:45:50.103333Z",
     "start_time": "2021-08-05T17:45:50.101484Z"
    }
   },
   "outputs": [],
   "source": [
    "#Plot 1: Sale Price Distribution\n"
   ]
  },
  {
   "cell_type": "markdown",
   "metadata": {},
   "source": [
    "## Method 02: Using Matplotlib OOP Interface"
   ]
  },
  {
   "cell_type": "markdown",
   "metadata": {
    "colab_type": "text",
    "id": "iijmn9qbkE9t"
   },
   "source": [
    "#### A Tale of Two Syntaxes\n",
    "-  *Matplotlib is powerful but can be a bit confusing at times because of its 2 sets of commands:*\n",
    "    - the matplotlib.pyplot functions (`plt.bar()`,`plt.title()`)\n",
    "    - the object_oriented methods (`ax.bar()`,`ax.set_title()`)\n",
    "    \n",
    "- The 2 syntaxes can be confusing at first and cause problems & odd results when mixed together.\n",
    "    - Learn about some of the problems when mixing types.\n",
    "    - Example: see how plt.title()/plt.xlabel(),etc. can behave strangely in subplots.\n",
    "    \n",
    "    - **Bookmark this article, its the best explanation of how matploblib'S 2 interfaces work:**\n",
    "> [\"Artist\" in Matplotlib - something I wanted to know before spending tremendous hours on googling how-tos.](https://dev.to/skotaro/artist-in-matplotlib---something-i-wanted-to-know-before-spending-tremendous-hours-on-googling-how-tos--31oo)<br>\n",
    "\n",
    "<!-- - [My Blog Post on Making Customized Figures in seaborn](https://jirvingphd.github.io/harnessing_seaborn_subplots_for_eda)\n",
    "    - This covers some concepts we didn't have time to cover, like ticklabel formatters. -->\n",
    "\n",
    ">- ***So... what are \"object-oriented-methods\" anyway?***"
   ]
  },
  {
   "cell_type": "markdown",
   "metadata": {},
   "source": [
    "### Anatomy of a Matplotlib Figure\n",
    "\n"
   ]
  },
  {
   "cell_type": "markdown",
   "metadata": {
    "colab_type": "text",
    "id": "tAGYB195T6aR"
   },
   "source": [
    "<center><img src=\"https://raw.githubusercontent.com/jirvingphd/fsds_100719_cohort_notes/master/images/matplotlib_anatomy.png\" width=400></center>\n",
    "\n",
    "- Matplotlib Figures are composed of 3 different types of objects:\n",
    "    - `Figure` is the largest bucket and contains everything else. It is like a picture frame without any actual images in it.\n",
    "  - `Axes` are the actual plot / image inside of the Figure / frame. \n",
    "        - this is the same `ax` as in `fig, ax = plt.subplots()` and that is returned when you create a Pandas or Seaborn figure.\n",
    "        - There is an 'Axes` for each subplot in the Figure\n",
    "\n",
    "        "
   ]
  },
  {
   "cell_type": "code",
   "execution_count": null,
   "metadata": {
    "ExecuteTime": {
     "end_time": "2021-08-05T17:45:50.107328Z",
     "start_time": "2021-08-05T17:45:50.105484Z"
    }
   },
   "outputs": [],
   "source": [
    "## Make an empty figure and ax with plt.subplots\n"
   ]
  },
  {
   "cell_type": "markdown",
   "metadata": {},
   "source": [
    "### OOP Crash Course"
   ]
  },
  {
   "cell_type": "markdown",
   "metadata": {},
   "source": [
    "- **Object-Oriented Programming (OOP):**\n",
    "    - OOP is all about working with Classes, which are the blueprints for a type of variable. \n",
    "    - Objects/classes can have functions that are attached to the object. \n",
    "        - When a function is attached to a class its called a **method**\n",
    "    - Object can also store variables inside themselves. \n",
    "        - When a variable is attached to an object it is called an **attribute**\n",
    "        \n",
    "        \n",
    "- OOP Examples You already Know:\n",
    "    - `pd.DataFrame` is a class\n",
    "    - `df = pd.DataFrame(...)` creates a dataframe object.\n",
    "    - DataFrames have **atrributes**:\n",
    "        - `df.columns`\n",
    "        - `df.index`\n",
    "        - `df.dtypes`\n",
    "    - DataFrames have **methods**\n",
    "        - `df.head()`\n",
    "        - `df.sort_values()`\n",
    "        - `df.info()`\n",
    "        - `df.dropna()`\n",
    "        - `df.plot()`\n",
    "        \n",
    "        \n",
    "- You will learn about classes in Phase 3.\n",
    "        "
   ]
  },
  {
   "cell_type": "code",
   "execution_count": null,
   "metadata": {
    "ExecuteTime": {
     "end_time": "2021-08-05T17:45:57.870961Z",
     "start_time": "2021-08-05T17:45:57.868733Z"
    }
   },
   "outputs": [],
   "source": [
    "## Run help on fig \n"
   ]
  },
  {
   "cell_type": "code",
   "execution_count": null,
   "metadata": {
    "ExecuteTime": {
     "end_time": "2021-08-05T17:45:58.068010Z",
     "start_time": "2021-08-05T17:45:58.065727Z"
    },
    "scrolled": true
   },
   "outputs": [],
   "source": [
    "# Run help on ax\n"
   ]
  },
  {
   "cell_type": "markdown",
   "metadata": {
    "colab_type": "text",
    "id": "tAGYB195T6aR"
   },
   "source": [
    "#### Anatomy of an Axes\n",
    "- `Axes` contain information about the titles, labels, grid,background, they also contain an. See the figure below for the contents of `Axes`\n",
    "- Inside Axes there is an `Axis` which is further divided into an `Axis.xaxis` and an `Axis.yaxis` that contain the ticks and the tick lables.\n",
    "\n",
    "    <center><img src=\"https://raw.githubusercontent.com/jirvingphd/fsds_100719_cohort_notes/master/images/matplotlib_Axes_layout2.png\" width=500></center>\n",
    "    \n",
    "- However, axes do NOT actually contain the VISUAL for the figure, just the information.\n",
    "  "
   ]
  },
  {
   "cell_type": "markdown",
   "metadata": {},
   "source": [
    "#### Now, let's make our figure with Method 02"
   ]
  },
  {
   "cell_type": "code",
   "execution_count": null,
   "metadata": {
    "ExecuteTime": {
     "end_time": "2021-08-05T17:46:03.946099Z",
     "start_time": "2021-08-05T17:46:03.943832Z"
    },
    "scrolled": true
   },
   "outputs": [],
   "source": [
    "#Plot 1: Sale Price Distribution - OOP\n"
   ]
  },
  {
   "cell_type": "markdown",
   "metadata": {},
   "source": [
    "> Note: if you don't need to customize fonts, you can **combine all `ax.set_xxxx(` commands (`ax.set_title`,`ax.set_xlabel`, etc) into 1 `ax.set()`"
   ]
  },
  {
   "cell_type": "code",
   "execution_count": null,
   "metadata": {
    "ExecuteTime": {
     "end_time": "2021-08-05T17:46:04.590397Z",
     "start_time": "2021-08-05T17:46:04.588169Z"
    }
   },
   "outputs": [],
   "source": [
    "#Plot 1: Sale Price Distribution - OOP with ax.set()\n"
   ]
  },
  {
   "cell_type": "markdown",
   "metadata": {},
   "source": [
    "## Method 03: Plot with Pandas"
   ]
  },
  {
   "cell_type": "markdown",
   "metadata": {},
   "source": [
    "- Pandas's dataframes and series have a `.plot()` method\n",
    "    - [Documentation](https://pandas.pydata.org/docs/reference/api/pandas.DataFrame.plot.html)\n",
    "    - The `kind` argument lets us specify if we want: \n",
    "        - \"scatter\"\n",
    "        - \"hist\"\n",
    "        - \"bar\"\n",
    "        - \"barh\"\n",
    "        - etc.\n",
    "    - There are also some additional plotting methods:\n",
    "        - e.g.: `df.hist()`"
   ]
  },
  {
   "cell_type": "code",
   "execution_count": null,
   "metadata": {
    "ExecuteTime": {
     "end_time": "2021-08-05T17:50:10.188647Z",
     "start_time": "2021-08-05T17:50:10.186373Z"
    }
   },
   "outputs": [],
   "source": [
    "# Plot 1: Sale Price Distribution - pandas .plot kind=hist\n"
   ]
  },
  {
   "cell_type": "markdown",
   "metadata": {},
   "source": [
    ">- Unfortunately .plot isn't perfect, which is why we also have `df.hist`"
   ]
  },
  {
   "cell_type": "code",
   "execution_count": null,
   "metadata": {
    "ExecuteTime": {
     "end_time": "2021-08-05T17:50:14.408137Z",
     "start_time": "2021-08-05T17:50:14.405921Z"
    }
   },
   "outputs": [],
   "source": [
    "#Plot 1: Sale Price Distribution - pandas .hist\n"
   ]
  },
  {
   "cell_type": "markdown",
   "metadata": {},
   "source": [
    "## Method 04: Seaborn"
   ]
  },
  {
   "cell_type": "markdown",
   "metadata": {
    "ExecuteTime": {
     "end_time": "2021-08-02T21:18:24.975028Z",
     "start_time": "2021-08-02T21:18:24.969082Z"
    }
   },
   "source": [
    "- Seaborn has 2 different kinds of plotting functions. Basic ones that return an ordinary matplotlib axis and fancy/advanced ones that return an object called a \"FacetGrid\"\n",
    "\n",
    "\n",
    "- Basic Functions (return an `ax`)\n",
    "    ```python\n",
    "    sns.histplot\n",
    "    sns.regplot\n",
    "    sns.scatter\n",
    "    ```\n",
    "- Advanced Functions (return a `FacetGrid`)\n",
    "    ```python\n",
    "    sns.lmplot\n",
    "    sns.catplot\n",
    "    sns.jointplot\n",
    "    ```\n",
    "    \n",
    "- We will make our histogram 2 different ways with Seaborn. \n",
    "    - The simpler `sns.histplot` function.\n",
    "    - The complex `sns.displot` function"
   ]
  },
  {
   "cell_type": "markdown",
   "metadata": {},
   "source": [
    "### Seaborn - Simple Plot (returns an ax)"
   ]
  },
  {
   "cell_type": "code",
   "execution_count": null,
   "metadata": {
    "ExecuteTime": {
     "end_time": "2021-08-05T17:37:58.444787Z",
     "start_time": "2021-08-05T17:37:58.156267Z"
    }
   },
   "outputs": [],
   "source": [
    "## PLot 1 - seaborn histplot\n"
   ]
  },
  {
   "cell_type": "markdown",
   "metadata": {},
   "source": [
    "### Seaborn - Advanced Plot (returns a FacetGrid)"
   ]
  },
  {
   "cell_type": "code",
   "execution_count": null,
   "metadata": {
    "ExecuteTime": {
     "end_time": "2021-08-05T17:37:58.779418Z",
     "start_time": "2021-08-05T17:37:58.446564Z"
    }
   },
   "outputs": [],
   "source": [
    "## PLot 1 - seaborn displot\n"
   ]
  },
  {
   "cell_type": "markdown",
   "metadata": {},
   "source": [
    "# 🕹Activity: Answering Stakeholder Questions with EDA"
   ]
  },
  {
   "cell_type": "markdown",
   "metadata": {},
   "source": [
    "## The Questions to Answer"
   ]
  },
  {
   "cell_type": "markdown",
   "metadata": {},
   "source": [
    "1. What is the distribution of house prices in Ames, Iowa?\n",
    "    - What is the median home price?\n",
    "    - What is the average home price?\n",
    "    \n",
    "\n",
    "2. What is the relationship between square footage of the living area (`GrLivArea`)  and sale price (`SalePrice`)?\n",
    "    \n",
    "2. What is the average sale price for each of the different types of homes (BldgType)?"
   ]
  },
  {
   "cell_type": "markdown",
   "metadata": {},
   "source": [
    "## Q1: What is the distribution of house prices in Ames, Iowa? "
   ]
  },
  {
   "cell_type": "code",
   "execution_count": null,
   "metadata": {
    "ExecuteTime": {
     "end_time": "2021-08-05T17:37:59.077088Z",
     "start_time": "2021-08-05T17:37:58.781372Z"
    }
   },
   "outputs": [],
   "source": [
    "## Make a larger fig/ax before plotting\n"
   ]
  },
  {
   "cell_type": "markdown",
   "metadata": {},
   "source": [
    "### Customizing Xtick Label Formatting\n",
    "- https://matplotlib.org/stable/gallery/pyplots/dollar_ticks.html?highlight=tick\n",
    "- Let's make our price ticks look more professional\n",
    "    - Add $'s \n",
    "    - Add , separator for thousands\n",
    "    - Show 2 decimal places"
   ]
  },
  {
   "cell_type": "code",
   "execution_count": null,
   "metadata": {
    "ExecuteTime": {
     "end_time": "2021-08-05T17:51:27.708470Z",
     "start_time": "2021-08-05T17:51:27.706307Z"
    }
   },
   "outputs": [],
   "source": [
    "## Make a larger fig/ax before plotting\n"
   ]
  },
  {
   "cell_type": "markdown",
   "metadata": {},
   "source": [
    "### A1"
   ]
  },
  {
   "cell_type": "markdown",
   "metadata": {},
   "source": [
    "-   "
   ]
  },
  {
   "cell_type": "markdown",
   "metadata": {},
   "source": [
    "## Q2: What is the relationship between square footage of the living area (GrLivArea) and sale price (SalePrice)?"
   ]
  },
  {
   "cell_type": "markdown",
   "metadata": {},
   "source": [
    "- Figure Requirements:\n",
    "    - Markers are small enough to see distinct dots\n",
    "    - Price-Formatted y axis\n",
    "    - Regression line added \n",
    "    - Make sure the regression line is easily distinguishable vs the markers"
   ]
  },
  {
   "cell_type": "code",
   "execution_count": null,
   "metadata": {
    "ExecuteTime": {
     "end_time": "2021-08-05T17:37:59.581720Z",
     "start_time": "2021-08-05T17:37:59.390227Z"
    }
   },
   "outputs": [],
   "source": [
    "## Plot 2 with seaborn - scatterplot\n"
   ]
  },
  {
   "cell_type": "code",
   "execution_count": null,
   "metadata": {
    "ExecuteTime": {
     "end_time": "2021-08-05T17:51:49.319104Z",
     "start_time": "2021-08-05T17:51:49.316783Z"
    }
   },
   "outputs": [],
   "source": [
    "## Plot 2 with seaborn + regression line\n"
   ]
  },
  {
   "cell_type": "markdown",
   "metadata": {},
   "source": [
    "### A2"
   ]
  },
  {
   "cell_type": "markdown",
   "metadata": {},
   "source": [
    "-   "
   ]
  },
  {
   "cell_type": "markdown",
   "metadata": {},
   "source": [
    "## Q3: What is the average sale price for each of the different types of homes (BldgType)?"
   ]
  },
  {
   "cell_type": "markdown",
   "metadata": {},
   "source": [
    "- Figure Requirements:\n",
    "    - Bars are sorted in order from largest to smallest mean.\n",
    "    - Bars have error bars added\n",
    "    - Price-Formatted y axis"
   ]
  },
  {
   "cell_type": "code",
   "execution_count": null,
   "metadata": {
    "ExecuteTime": {
     "end_time": "2021-08-05T17:38:00.348998Z",
     "start_time": "2021-08-05T17:37:59.989726Z"
    }
   },
   "outputs": [],
   "source": [
    "# Use sns.barplot to plot blgdtype vs saleprice (dont worry about order of bars yet)\n"
   ]
  },
  {
   "cell_type": "markdown",
   "metadata": {},
   "source": [
    "#### Plot 3: Average Sale Price by BldgType"
   ]
  },
  {
   "cell_type": "code",
   "execution_count": null,
   "metadata": {
    "ExecuteTime": {
     "end_time": "2021-08-05T17:38:00.358346Z",
     "start_time": "2021-08-05T17:38:00.351068Z"
    }
   },
   "outputs": [],
   "source": [
    "# Use sns.barplot to plot blgdtype vs saleprice - ordered correctly\n",
    "## First, calculate the correct order for the bars\n"
   ]
  },
  {
   "cell_type": "code",
   "execution_count": null,
   "metadata": {
    "ExecuteTime": {
     "end_time": "2021-08-05T17:38:00.694095Z",
     "start_time": "2021-08-05T17:38:00.360172Z"
    },
    "scrolled": true
   },
   "outputs": [],
   "source": [
    "## Now use the info from abvoe to order the bars\n"
   ]
  },
  {
   "cell_type": "markdown",
   "metadata": {},
   "source": [
    "### A3"
   ]
  },
  {
   "cell_type": "markdown",
   "metadata": {},
   "source": [
    "-   "
   ]
  },
  {
   "cell_type": "markdown",
   "metadata": {},
   "source": [
    "### EDA Wrap Up"
   ]
  },
  {
   "cell_type": "markdown",
   "metadata": {},
   "source": [
    "- We did it! We used our awesome visualization techniques to provide visual answers to real questions. \n",
    "- We chose the ideal figures to best answer the questions."
   ]
  },
  {
   "cell_type": "markdown",
   "metadata": {},
   "source": [
    "# BRANCH/DECISION POINT:"
   ]
  },
  {
   "cell_type": "markdown",
   "metadata": {},
   "source": [
    "- IF we are low on time, which would we rather cover?\n",
    "    - A) Multiple subplots\n",
    "    - B) Customizing aesthetics"
   ]
  },
  {
   "cell_type": "markdown",
   "metadata": {},
   "source": [
    "## More Advanced Plots - Subplots"
   ]
  },
  {
   "cell_type": "markdown",
   "metadata": {},
   "source": [
    "- Combine our plots for Q2 and Q3 into 1"
   ]
  },
  {
   "cell_type": "code",
   "execution_count": null,
   "metadata": {
    "ExecuteTime": {
     "end_time": "2021-08-05T17:52:31.489872Z",
     "start_time": "2021-08-05T17:52:31.487592Z"
    }
   },
   "outputs": [],
   "source": [
    "# Combined subplots\n",
    "\n",
    "\n",
    "### Plot 0\n",
    "\n",
    "\n",
    "### Plot 1\n",
    "\n",
    "\n",
    "## Fix overlap\n",
    "\n",
    "## Add suptitle big and bold\n"
   ]
  },
  {
   "cell_type": "code",
   "execution_count": null,
   "metadata": {
    "ExecuteTime": {
     "end_time": "2021-08-05T17:38:02.156834Z",
     "start_time": "2021-08-05T17:38:01.364963Z"
    }
   },
   "outputs": [],
   "source": [
    "## past the full thing into thsi cell and make a function\n",
    "## make it takes the df and lets move the suptitle to the function definiton\n"
   ]
  },
  {
   "cell_type": "markdown",
   "metadata": {},
   "source": [
    "# Customizing Figure Aesthetics"
   ]
  },
  {
   "cell_type": "markdown",
   "metadata": {},
   "source": [
    "## Quick & Easy Visual Overhaul"
   ]
  },
  {
   "cell_type": "markdown",
   "metadata": {},
   "source": [
    "### Matplotlib Styles\n",
    "- https://matplotlib.org/stable/gallery/style_sheets/style_sheets_reference.html"
   ]
  },
  {
   "cell_type": "code",
   "execution_count": null,
   "metadata": {
    "ExecuteTime": {
     "end_time": "2021-08-05T17:38:02.166858Z",
     "start_time": "2021-08-05T17:38:02.162774Z"
    }
   },
   "outputs": [],
   "source": [
    "## List of available styles\n",
    "plt.style.available"
   ]
  },
  {
   "cell_type": "code",
   "execution_count": null,
   "metadata": {
    "ExecuteTime": {
     "end_time": "2021-08-05T17:38:17.042184Z",
     "start_time": "2021-08-05T17:38:02.169345Z"
    },
    "scrolled": false
   },
   "outputs": [],
   "source": [
    "## loop through all styles and use our plotting function.\n",
    "# changen the suptitle to be the style name\n",
    "    \n",
    "    ## Use with plt.style.context to TEMPORARILY change the style\n"
   ]
  },
  {
   "cell_type": "markdown",
   "metadata": {},
   "source": [
    ">- Once you've found a style and want to apply it to the entire notebook, add the following command at the top of your notebook right after importing matplotlib\n",
    "```python \n",
    "plt.style.use('seaborn-talk')\n",
    "```"
   ]
  },
  {
   "cell_type": "markdown",
   "metadata": {},
   "source": [
    "### Seaborn Themes/Contexts/Colorpalette"
   ]
  },
  {
   "cell_type": "markdown",
   "metadata": {},
   "source": [
    "- https://seaborn.pydata.org/api.html#themeing\n",
    "- https://seaborn.pydata.org/tutorial/color_palettes.html"
   ]
  },
  {
   "cell_type": "code",
   "execution_count": null,
   "metadata": {
    "ExecuteTime": {
     "end_time": "2021-08-05T17:41:43.205891Z",
     "start_time": "2021-08-05T17:41:43.198972Z"
    }
   },
   "outputs": [],
   "source": [
    "sns.color_palette(\"rocket\")"
   ]
  },
  {
   "cell_type": "code",
   "execution_count": null,
   "metadata": {
    "ExecuteTime": {
     "end_time": "2021-08-05T17:41:50.425224Z",
     "start_time": "2021-08-05T17:41:50.142797Z"
    }
   },
   "outputs": [],
   "source": [
    "palette = sns.color_palette('rocket')\n",
    "sns.barplot(data=df,x='BldgType',y='SalePrice',palette=palette)"
   ]
  },
  {
   "cell_type": "code",
   "execution_count": null,
   "metadata": {
    "ExecuteTime": {
     "end_time": "2021-08-05T17:42:07.492553Z",
     "start_time": "2021-08-05T17:42:06.910094Z"
    }
   },
   "outputs": [],
   "source": [
    "sns.set_palette('rocket')\n",
    "final_eda_figure(df)"
   ]
  },
  {
   "cell_type": "markdown",
   "metadata": {},
   "source": [
    "# All Resources:"
   ]
  },
  {
   "cell_type": "markdown",
   "metadata": {},
   "source": [
    "\n",
    "### **Matplotlib Documentation**\n",
    "- [Markers](https://matplotlib.org/3.1.1/api/markers_api.html)\n",
    "- [Colors](https://matplotlib.org/3.1.0/gallery/color/named_colors.html )\n",
    "- [Text](https://matplotlib.org/3.1.0/tutorials/text/text_intro.html )\n",
    "- [Text Properties](https://matplotlib.org/3.1.1/tutorials/text/text_props.html)\n",
    "\n",
    "- [Tick Formatters](https://matplotlib.org/3.1.1/gallery/ticks_and_spines/tick-formatters.html)\n",
    "\n",
    "\n",
    "### Cheat Sheets\n",
    "\n",
    "- [Matplotlib and Seaborn Pages in our Master Cheat sheets pdf](https://drive.google.com/open?id=1PxRAhlaK7ucf0S2F732eJ94ovaPtUSE_)"
   ]
  },
  {
   "cell_type": "markdown",
   "metadata": {},
   "source": [
    "- **Bookmark this article, its the best explanation of how matploblib'S 2 interfaces work:**\n",
    "> [\"Artist\" in Matplotlib - something I wanted to know before spending tremendous hours on googling how-tos.](https://dev.to/skotaro/artist-in-matplotlib---something-i-wanted-to-know-before-spending-tremendous-hours-on-googling-how-tos--31oo)<br>"
   ]
  },
  {
   "cell_type": "markdown",
   "metadata": {
    "heading_collapsed": true
   },
   "source": [
    "# APPENDIX"
   ]
  },
  {
   "cell_type": "markdown",
   "metadata": {
    "hidden": true
   },
   "source": [
    "## Alternative Plots For Each Q"
   ]
  },
  {
   "cell_type": "markdown",
   "metadata": {
    "hidden": true
   },
   "source": [
    "### Q2 Alternatives"
   ]
  },
  {
   "cell_type": "markdown",
   "metadata": {
    "hidden": true
   },
   "source": [
    "#### Plot 2: Sqft Living Area vs Sale Price - plt functions"
   ]
  },
  {
   "cell_type": "code",
   "execution_count": null,
   "metadata": {
    "ExecuteTime": {
     "end_time": "2021-08-05T17:31:25.453531Z",
     "start_time": "2021-08-05T17:31:25.277364Z"
    },
    "hidden": true
   },
   "outputs": [],
   "source": [
    "# Plot 2: sqft vs sale price\n",
    "plt.figure(figsize=(8,4))\n",
    "plt.scatter(df['GrLivArea'], df['SalePrice'],s=2)\n",
    "plt.ylabel('Sale Price ($)')\n",
    "plt.xlabel('Sqft Living Area')\n",
    "plt.title('Sqft vs Sale Price');"
   ]
  },
  {
   "cell_type": "markdown",
   "metadata": {
    "hidden": true
   },
   "source": [
    "#### Plot 2: Sqft Living Area vs Sale Price - oop"
   ]
  },
  {
   "cell_type": "code",
   "execution_count": null,
   "metadata": {
    "ExecuteTime": {
     "end_time": "2021-08-05T17:31:25.630770Z",
     "start_time": "2021-08-05T17:31:25.455352Z"
    },
    "hidden": true
   },
   "outputs": [],
   "source": [
    "## Plot 2 with OOP\n",
    "fig,ax = plt.subplots()\n",
    "ax.scatter(df['GrLivArea'], df['SalePrice'],s=2)\n",
    "ax.set_ylabel('Sale Price ($)')\n",
    "ax.set_xlabel('Sqft Living Area')\n",
    "ax.set_title('Sqft vs Sale Price');"
   ]
  },
  {
   "cell_type": "code",
   "execution_count": null,
   "metadata": {
    "ExecuteTime": {
     "end_time": "2021-08-05T17:31:25.802260Z",
     "start_time": "2021-08-05T17:31:25.632399Z"
    },
    "hidden": true
   },
   "outputs": [],
   "source": [
    "# Plot 2 with OOP and .set()\n",
    "fig,ax = plt.subplots()\n",
    "ax.scatter(df['GrLivArea'], df['SalePrice'],s=2)\n",
    "ax.set(ylabel='Sale Price ($)', xlabel='Sqft Living Area', title='Sqft vs Sale Price');"
   ]
  },
  {
   "cell_type": "markdown",
   "metadata": {
    "hidden": true
   },
   "source": [
    "#### Plot 2: Sqft Living Area vs Sale Price"
   ]
  },
  {
   "cell_type": "code",
   "execution_count": null,
   "metadata": {
    "ExecuteTime": {
     "end_time": "2021-08-05T17:31:25.978690Z",
     "start_time": "2021-08-05T17:31:25.803894Z"
    },
    "hidden": true
   },
   "outputs": [],
   "source": [
    "## Plot 2 with pandas\n",
    "df.plot(kind='scatter',x='GrLivArea', y='SalePrice',s=2,title='Sqft vs Sale Price');"
   ]
  },
  {
   "cell_type": "markdown",
   "metadata": {
    "hidden": true
   },
   "source": [
    "## Q3 Alternatives"
   ]
  },
  {
   "cell_type": "markdown",
   "metadata": {
    "hidden": true
   },
   "source": [
    "#### Plot 3: Average Sale Price by BldgType"
   ]
  },
  {
   "cell_type": "code",
   "execution_count": null,
   "metadata": {
    "ExecuteTime": {
     "end_time": "2021-08-05T17:31:25.986770Z",
     "start_time": "2021-08-05T17:31:25.980486Z"
    },
    "hidden": true
   },
   "outputs": [],
   "source": [
    "# Prepare Data - Plot 3: avg sale price by blgtype\n",
    "bldgtype_means = df.groupby('BldgType').mean()['SalePrice']\n",
    "bldgtype_means"
   ]
  },
  {
   "cell_type": "code",
   "execution_count": null,
   "metadata": {
    "ExecuteTime": {
     "end_time": "2021-08-05T17:31:26.149175Z",
     "start_time": "2021-08-05T17:31:25.988370Z"
    },
    "hidden": true
   },
   "outputs": [],
   "source": [
    "# Plot 3: avg sale price by blgtype\n",
    "plt.bar(bldgtype_means.index, bldgtype_means.values)\n",
    "plt.ylabel('Mean Sale Price ($)')\n",
    "plt.xlabel('Building Type')\n",
    "plt.title('Average Sale Price by Building Type');"
   ]
  },
  {
   "cell_type": "markdown",
   "metadata": {
    "hidden": true
   },
   "source": [
    "#### Plot 3+Level Up: Average Sale Price by BldgType - with Error Bars"
   ]
  },
  {
   "cell_type": "code",
   "execution_count": null,
   "metadata": {
    "ExecuteTime": {
     "end_time": "2021-08-05T17:31:26.188377Z",
     "start_time": "2021-08-05T17:31:26.150909Z"
    },
    "hidden": true
   },
   "outputs": [],
   "source": [
    "# Level Up - Prepare Data - Plot 3: avg sale price by blgtype\n",
    "bldgtype_means = df.groupby('BldgType').agg(['mean','std','count'])['SalePrice']\n",
    "bldgtype_means['Std Error'] = bldgtype_means['std']/ np.sqrt(bldgtype_means['count'])\n",
    "bldgtype_means"
   ]
  },
  {
   "cell_type": "code",
   "execution_count": null,
   "metadata": {
    "ExecuteTime": {
     "end_time": "2021-08-05T17:31:26.368580Z",
     "start_time": "2021-08-05T17:31:26.190706Z"
    },
    "hidden": true
   },
   "outputs": [],
   "source": [
    "# Plot 3-LevelUp: avg sale price by blgtype\n",
    "plt.bar(bldgtype_means.index, bldgtype_means['mean'],yerr = bldgtype_means['Std Error'])\n",
    "plt.ylabel('Mean Sale Price ($)')\n",
    "plt.xlabel('Building Type')\n",
    "plt.title('Average Sale Price by Building Type');"
   ]
  },
  {
   "cell_type": "markdown",
   "metadata": {
    "hidden": true
   },
   "source": [
    "### Method 02: Using Matplotlib OOP Interface"
   ]
  },
  {
   "cell_type": "code",
   "execution_count": null,
   "metadata": {
    "ExecuteTime": {
     "end_time": "2021-08-05T17:31:26.377487Z",
     "start_time": "2021-08-05T17:31:26.370546Z"
    },
    "hidden": true
   },
   "outputs": [],
   "source": [
    "# Prepare Data - Plot 3: avg sale price by blgtype\n",
    "bldgtype_means = df.groupby('BldgType').mean()['SalePrice']\n",
    "bldgtype_means"
   ]
  },
  {
   "cell_type": "code",
   "execution_count": null,
   "metadata": {
    "ExecuteTime": {
     "end_time": "2021-08-05T17:31:26.558050Z",
     "start_time": "2021-08-05T17:31:26.379419Z"
    },
    "hidden": true
   },
   "outputs": [],
   "source": [
    "# Plot 3: avg sale price by blgtype\n",
    "fig,ax = plt.subplots()\n",
    "ax.bar(bldgtype_means.index, bldgtype_means.values)\n",
    "ax.set(ylabel='Mean Sale Price ($)', xlabel='Building Type', \n",
    "       title='Average Sale Price by Building Type');"
   ]
  },
  {
   "cell_type": "markdown",
   "metadata": {
    "hidden": true
   },
   "source": [
    "### Method 03: Pandas"
   ]
  },
  {
   "cell_type": "markdown",
   "metadata": {
    "hidden": true
   },
   "source": [
    "#### Plot 3: Average Sale Price by BldgType"
   ]
  },
  {
   "cell_type": "code",
   "execution_count": null,
   "metadata": {
    "ExecuteTime": {
     "end_time": "2021-08-05T17:31:26.731176Z",
     "start_time": "2021-08-05T17:31:26.559798Z"
    },
    "hidden": true,
    "scrolled": true
   },
   "outputs": [],
   "source": [
    "df.groupby('BldgType').mean()['SalePrice'].plot(kind='bar');"
   ]
  },
  {
   "cell_type": "code",
   "execution_count": null,
   "metadata": {
    "hidden": true
   },
   "outputs": [],
   "source": []
  }
 ],
 "metadata": {
  "colab": {
   "collapsed_sections": [],
   "include_colab_link": true,
   "name": "Plotting and Functions Revisited",
   "provenance": []
  },
  "kernelspec": {
   "display_name": "learn-env",
   "language": "python",
   "name": "learn-env"
  },
  "language_info": {
   "codemirror_mode": {
    "name": "ipython",
    "version": 3
   },
   "file_extension": ".py",
   "mimetype": "text/x-python",
   "name": "python",
   "nbconvert_exporter": "python",
   "pygments_lexer": "ipython3",
   "version": "3.6.9"
  },
  "toc": {
   "base_numbering": 1,
   "nav_menu": {},
   "number_sections": false,
   "sideBar": true,
   "skip_h1_title": false,
   "title_cell": "Table of Contents",
   "title_sidebar": "Contents",
   "toc_cell": false,
   "toc_position": {
    "height": "calc(100% - 180px)",
    "left": "10px",
    "top": "150px",
    "width": "384px"
   },
   "toc_section_display": true,
   "toc_window_display": true
  },
  "varInspector": {
   "cols": {
    "lenName": 16,
    "lenType": 16,
    "lenVar": 40
   },
   "kernels_config": {
    "python": {
     "delete_cmd_postfix": "",
     "delete_cmd_prefix": "del ",
     "library": "var_list.py",
     "varRefreshCmd": "print(var_dic_list())"
    },
    "r": {
     "delete_cmd_postfix": ") ",
     "delete_cmd_prefix": "rm(",
     "library": "var_list.r",
     "varRefreshCmd": "cat(var_dic_list()) "
    }
   },
   "types_to_exclude": [
    "module",
    "function",
    "builtin_function_or_method",
    "instance",
    "_Feature"
   ],
   "window_display": false
  }
 },
 "nbformat": 4,
 "nbformat_minor": 1
}
